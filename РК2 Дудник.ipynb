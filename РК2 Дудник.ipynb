{
  "nbformat": 4,
  "nbformat_minor": 0,
  "metadata": {
    "colab": {
      "provenance": []
    },
    "kernelspec": {
      "name": "python3",
      "display_name": "Python 3"
    },
    "language_info": {
      "name": "python"
    }
  },
  "cells": [
    {
      "cell_type": "markdown",
      "source": [
        "#Дудник М. В. ИУ5-22М РК2 ММО"
      ],
      "metadata": {
        "id": "SIPfnqQwMflH"
      }
    },
    {
      "cell_type": "markdown",
      "source": [
        "Необходимо сформировать два варианта векторизации признаков - на основе CountVectorizer и на основе TfidfVectorizer.\n",
        "В качестве классификаторов необходимо использовать RandomForestClassifier и LogisticRegression. Для каждого метода необходимо оценить качество классификации. Сделайте вывод о том, какой вариант векторизации признаков в паре с каким классификатором показал лучшее качество."
      ],
      "metadata": {
        "id": "OkCMcyqXMlYw"
      }
    },
    {
      "cell_type": "code",
      "source": [
        "# Import necessary libraries\n",
        "import pandas as pd\n",
        "import numpy as np\n",
        "import zipfile\n",
        "import requests\n",
        "from io import BytesIO\n",
        "from sklearn.model_selection import train_test_split\n",
        "from sklearn.feature_extraction.text import CountVectorizer, TfidfVectorizer\n",
        "from sklearn.ensemble import RandomForestClassifier\n",
        "from sklearn.linear_model import LogisticRegression\n",
        "from sklearn.metrics import accuracy_score\n",
        "\n",
        "# Download and extract the dataset\n",
        "url = \"https://archive.ics.uci.edu/ml/machine-learning-databases/00228/smsspamcollection.zip\"\n",
        "response = requests.get(url)\n",
        "zip_file = zipfile.ZipFile(BytesIO(response.content))\n",
        "file_name = zip_file.namelist()[0]\n",
        "data = zip_file.read('SMSSpamCollection').decode('utf-8')\n",
        "\n",
        "# Load the dataset into a DataFrame\n",
        "df = pd.read_csv(BytesIO(data.encode('utf-8')), sep='\\t', names=['label', 'message'])\n",
        "\n",
        "# Encode the labels\n",
        "df['label'] = df['label'].map({'ham': 0, 'spam': 1})\n",
        "\n",
        "# Split the dataset into training and testing sets\n",
        "X_train, X_test, y_train, y_test = train_test_split(df['message'], df['label'], test_size=0.2, random_state=42)\n",
        "\n",
        "# Define a function to perform the classification and evaluate the results\n",
        "def evaluate_vectorizer(vectorizer, classifier, X_train, X_test, y_train, y_test):\n",
        "    # Transform the text data using the provided vectorizer\n",
        "    X_train_vec = vectorizer.fit_transform(X_train)\n",
        "    X_test_vec = vectorizer.transform(X_test)\n",
        "\n",
        "    # Train the classifier\n",
        "    classifier.fit(X_train_vec, y_train)\n",
        "\n",
        "    # Predict on the test set\n",
        "    y_pred = classifier.predict(X_test_vec)\n",
        "\n",
        "    # Evaluate the accuracy\n",
        "    accuracy = accuracy_score(y_test, y_pred)\n",
        "\n",
        "    return accuracy\n",
        "\n",
        "# Define the vectorizers\n",
        "count_vectorizer = CountVectorizer()\n",
        "tfidf_vectorizer = TfidfVectorizer()\n",
        "\n",
        "# Define the classifiers\n",
        "rf_classifier = RandomForestClassifier(random_state=42)\n",
        "lr_classifier = LogisticRegression(max_iter=1000, random_state=42)\n",
        "\n",
        "# Evaluate CountVectorizer + RandomForestClassifier\n",
        "count_rf_accuracy = evaluate_vectorizer(count_vectorizer, rf_classifier, X_train, X_test, y_train, y_test)\n",
        "print(f\"CountVectorizer + RandomForestClassifier Accuracy: {count_rf_accuracy}\")\n",
        "\n",
        "# Evaluate TfidfVectorizer + RandomForestClassifier\n",
        "tfidf_rf_accuracy = evaluate_vectorizer(tfidf_vectorizer, rf_classifier, X_train, X_test, y_train, y_test)\n",
        "print(f\"TfidfVectorizer + RandomForestClassifier Accuracy: {tfidf_rf_accuracy}\")\n",
        "\n",
        "# Evaluate CountVectorizer + LogisticRegression\n",
        "count_lr_accuracy = evaluate_vectorizer(count_vectorizer, lr_classifier, X_train, X_test, y_train, y_test)\n",
        "print(f\"CountVectorizer + LogisticRegression Accuracy: {count_lr_accuracy}\")\n",
        "\n",
        "# Evaluate TfidfVectorizer + LogisticRegression\n",
        "tfidf_lr_accuracy = evaluate_vectorizer(tfidf_vectorizer, lr_classifier, X_train, X_test, y_train, y_test)\n",
        "print(f\"TfidfVectorizer + LogisticRegression Accuracy: {tfidf_lr_accuracy}\")\n",
        "\n",
        "# Print the results\n",
        "results = {\n",
        "    \"CountVectorizer + RandomForestClassifier\": count_rf_accuracy,\n",
        "    \"TfidfVectorizer + RandomForestClassifier\": tfidf_rf_accuracy,\n",
        "    \"CountVectorizer + LogisticRegression\": count_lr_accuracy,\n",
        "    \"TfidfVectorizer + LogisticRegression\": tfidf_lr_accuracy\n",
        "}\n",
        "\n",
        "best_combination = max(results, key=results.get)\n",
        "print(f\"The best combination is {best_combination} with an accuracy of {results[best_combination]}\")\n"
      ],
      "metadata": {
        "colab": {
          "base_uri": "https://localhost:8080/"
        },
        "id": "8I8QN2I-Mmb3",
        "outputId": "707e645d-1e4a-4433-cc90-1f588f017b3d"
      },
      "execution_count": 5,
      "outputs": [
        {
          "output_type": "stream",
          "name": "stdout",
          "text": [
            "CountVectorizer + RandomForestClassifier Accuracy: 0.9847533632286996\n",
            "TfidfVectorizer + RandomForestClassifier Accuracy: 0.9838565022421525\n",
            "CountVectorizer + LogisticRegression Accuracy: 0.9883408071748879\n",
            "TfidfVectorizer + LogisticRegression Accuracy: 0.9766816143497757\n",
            "The best combination is CountVectorizer + LogisticRegression with an accuracy of 0.9883408071748879\n"
          ]
        }
      ]
    }
  ]
}