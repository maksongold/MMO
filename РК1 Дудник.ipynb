{
  "nbformat": 4,
  "nbformat_minor": 0,
  "metadata": {
    "colab": {
      "provenance": []
    },
    "kernelspec": {
      "name": "python3",
      "display_name": "Python 3"
    },
    "language_info": {
      "name": "python"
    }
  },
  "cells": [
    {
      "cell_type": "markdown",
      "source": [
        "#Дудник М. В. ИУ5-22М РК1 ММО\n"
      ],
      "metadata": {
        "id": "Z_vW_z36HnoK"
      }
    },
    {
      "cell_type": "markdown",
      "source": [
        "**Задача №5.**\n",
        "Для набора данных проведите кодирование одного (произвольного) категориального признака с использованием метода \"one-hot encoding\".\n",
        "**Задача №25.**\n",
        "Для набора данных для одного (произвольного) числового признака проведите обнаружение и удаление выбросов на основе межквартильного размаха.\n",
        "\n",
        "Для студентов групп ИУ5-22М, ИУ5И-22М - для произвольной колонки данных построить гистограмму."
      ],
      "metadata": {
        "id": "D5dFPr-qHvrJ"
      }
    },
    {
      "cell_type": "markdown",
      "source": [
        "##Задача 1"
      ],
      "metadata": {
        "id": "AodehXIkHh66"
      }
    },
    {
      "cell_type": "code",
      "execution_count": 5,
      "metadata": {
        "colab": {
          "base_uri": "https://localhost:8080/"
        },
        "id": "OcElWrcfECbY",
        "outputId": "ceee73d5-1b99-403f-a9e8-dfcac60715c2"
      },
      "outputs": [
        {
          "output_type": "stream",
          "name": "stderr",
          "text": [
            "/usr/local/lib/python3.10/dist-packages/sklearn/datasets/_openml.py:968: FutureWarning: The default value of `parser` will change from `'liac-arff'` to `'auto'` in 1.4. You can set `parser='auto'` to silence this warning. Therefore, an `ImportError` will be raised from 1.4 if the dataset is dense and pandas is not installed. Note that the pandas parser may return different data types. See the Notes Section in fetch_openml's API doc for details.\n",
            "  warn(\n",
            "/usr/local/lib/python3.10/dist-packages/sklearn/preprocessing/_encoders.py:868: FutureWarning: `sparse` was renamed to `sparse_output` in version 1.2 and will be removed in 1.4. `sparse_output` is ignored unless you leave `sparse` to its default value.\n",
            "  warnings.warn(\n"
          ]
        },
        {
          "output_type": "stream",
          "name": "stdout",
          "text": [
            "   pclass survived                                             name     sex  \\\n",
            "0     1.0        1                    Allen, Miss. Elisabeth Walton  female   \n",
            "1     1.0        1                   Allison, Master. Hudson Trevor    male   \n",
            "2     1.0        0                     Allison, Miss. Helen Loraine  female   \n",
            "3     1.0        0             Allison, Mr. Hudson Joshua Creighton    male   \n",
            "4     1.0        0  Allison, Mrs. Hudson J C (Bessie Waldo Daniels)  female   \n",
            "\n",
            "       age  sibsp  parch  ticket      fare    cabin embarked  boat   body  \\\n",
            "0  29.0000    0.0    0.0   24160  211.3375       B5        S     2   None   \n",
            "1   0.9167    1.0    2.0  113781  151.5500  C22 C26        S    11    NaN   \n",
            "2   2.0000    1.0    2.0  113781  151.5500  C22 C26        S  None    NaN   \n",
            "3  30.0000    1.0    2.0  113781  151.5500  C22 C26        S  None  135.0   \n",
            "4  25.0000    1.0    2.0  113781  151.5500  C22 C26        S  None    NaN   \n",
            "\n",
            "                         home.dest  \n",
            "0                     St Louis, MO  \n",
            "1  Montreal, PQ / Chesterville, ON  \n",
            "2  Montreal, PQ / Chesterville, ON  \n",
            "3  Montreal, PQ / Chesterville, ON  \n",
            "4  Montreal, PQ / Chesterville, ON  \n",
            "   pclass survived                                             name     sex  \\\n",
            "0     1.0        1                    Allen, Miss. Elisabeth Walton  female   \n",
            "1     1.0        1                   Allison, Master. Hudson Trevor    male   \n",
            "2     1.0        0                     Allison, Miss. Helen Loraine  female   \n",
            "3     1.0        0             Allison, Mr. Hudson Joshua Creighton    male   \n",
            "4     1.0        0  Allison, Mrs. Hudson J C (Bessie Waldo Daniels)  female   \n",
            "\n",
            "       age  sibsp  parch  ticket      fare    cabin  boat   body  \\\n",
            "0  29.0000    0.0    0.0   24160  211.3375       B5     2   None   \n",
            "1   0.9167    1.0    2.0  113781  151.5500  C22 C26    11    NaN   \n",
            "2   2.0000    1.0    2.0  113781  151.5500  C22 C26  None    NaN   \n",
            "3  30.0000    1.0    2.0  113781  151.5500  C22 C26  None  135.0   \n",
            "4  25.0000    1.0    2.0  113781  151.5500  C22 C26  None    NaN   \n",
            "\n",
            "                         home.dest  embarked_C  embarked_Q  embarked_S  \\\n",
            "0                     St Louis, MO         0.0         0.0         1.0   \n",
            "1  Montreal, PQ / Chesterville, ON         0.0         0.0         1.0   \n",
            "2  Montreal, PQ / Chesterville, ON         0.0         0.0         1.0   \n",
            "3  Montreal, PQ / Chesterville, ON         0.0         0.0         1.0   \n",
            "4  Montreal, PQ / Chesterville, ON         0.0         0.0         1.0   \n",
            "\n",
            "   embarked_missing  \n",
            "0               0.0  \n",
            "1               0.0  \n",
            "2               0.0  \n",
            "3               0.0  \n",
            "4               0.0  \n",
            "(1037, 14)\n"
          ]
        }
      ],
      "source": [
        "# Import necessary libraries\n",
        "import numpy as np\n",
        "import pandas as pd\n",
        "import seaborn as sns\n",
        "import matplotlib.pyplot as plt\n",
        "from sklearn.datasets import fetch_openml\n",
        "from sklearn.preprocessing import OneHotEncoder\n",
        "\n",
        "# Load the Titanic dataset\n",
        "titanic = fetch_openml('titanic', version=1, as_frame=True)\n",
        "titanic_df = titanic.frame\n",
        "\n",
        "# Display the first few rows of the dataset\n",
        "print(titanic_df.head())\n",
        "\n",
        "# One-Hot Encoding for a categorical feature\n",
        "# Let's choose the 'embarked' column for this task\n",
        "\n",
        "# Set the categories for 'embarked' column including 'missing'\n",
        "titanic_df['embarked'] = titanic_df['embarked'].astype('category')\n",
        "titanic_df['embarked'] = titanic_df['embarked'].cat.add_categories('missing')\n",
        "\n",
        "# Initialize the OneHotEncoder\n",
        "encoder = OneHotEncoder(sparse=False, handle_unknown='ignore')\n",
        "\n",
        "# Fit and transform the 'embarked' column\n",
        "embarked_encoded = encoder.fit_transform(titanic_df[['embarked']].fillna('missing'))\n",
        "\n",
        "# Create a DataFrame with the encoded feature\n",
        "embarked_encoded_df = pd.DataFrame(embarked_encoded, columns=encoder.get_feature_names_out(['embarked']))\n",
        "\n",
        "# Drop the original 'embarked' column and concatenate the encoded DataFrame\n",
        "titanic_encoded_df = titanic_df.drop('embarked', axis=1).join(embarked_encoded_df)\n",
        "\n",
        "# Display the first few rows of the encoded DataFrame\n",
        "print(titanic_encoded_df.head())\n",
        "\n",
        "# Detecting and removing outliers for a numerical feature\n",
        "# Let's choose the 'age' column for this task\n",
        "\n",
        "# Calculate Q1 (25th percentile) and Q3 (75th percentile)\n",
        "Q1 = titanic_df['age'].quantile(0.25)\n",
        "Q3 = titanic_df['age'].quantile(0.75)\n",
        "\n",
        "# Calculate the IQR (Interquartile Range)\n",
        "IQR = Q3 - Q1\n",
        "\n",
        "# Define the lower and upper bounds for outliers\n",
        "lower_bound = Q1 - 1.5 * IQR\n",
        "upper_bound = Q3 + 1.5 * IQR\n",
        "\n",
        "# Filter out the outliers\n",
        "titanic_no_outliers_df = titanic_df[(titanic_df['age'] >= lower_bound) & (titanic_df['age'] <= upper_bound)]\n",
        "\n",
        "# Display the shape of the DataFrame without outliers\n",
        "print(titanic_no_outliers_df.shape)\n"
      ]
    },
    {
      "cell_type": "markdown",
      "source": [
        "##Задача 2\n"
      ],
      "metadata": {
        "id": "ArOGhYmKHVw7"
      }
    },
    {
      "cell_type": "code",
      "source": [
        "# Plotting a histogram for a numerical column\n",
        "# Let's choose the 'fare' column for this task\n",
        "\n",
        "plt.figure(figsize=(10, 6))\n",
        "sns.histplot(titanic_df['fare'], bins=30, kde=True)\n",
        "plt.title('Histogram of Fare')\n",
        "plt.xlabel('Fare')\n",
        "plt.ylabel('Frequency')\n",
        "plt.show()"
      ],
      "metadata": {
        "colab": {
          "base_uri": "https://localhost:8080/",
          "height": 564
        },
        "id": "fnoJlapdHaOy",
        "outputId": "3bc2acca-7d68-430a-e1ac-0383926d8e88"
      },
      "execution_count": 6,
      "outputs": [
        {
          "output_type": "display_data",
          "data": {
            "text/plain": [
              "<Figure size 1000x600 with 1 Axes>"
            ],
            "image/png": "[encoded data removed]"
          },
          "metadata": {}
        }
      ]
    }
  ]
}